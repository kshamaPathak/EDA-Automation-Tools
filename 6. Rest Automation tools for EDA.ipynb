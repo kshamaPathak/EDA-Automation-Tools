{
 "cells": [
  {
   "cell_type": "markdown",
   "id": "55269f98",
   "metadata": {},
   "source": [
    "##### To implement the Python libraries dabl, QuickDA, Datatile, Lux, and ExploriPy for exploratory data analysis (EDA), you'll need to install these libraries and use their functions and features as appropriate for your dataset. Below are examples of how to use each of these libraries for EDA in Python:"
   ]
  },
  {
   "cell_type": "markdown",
   "id": "79f723ce",
   "metadata": {},
   "source": [
    "## dabl"
   ]
  },
  {
   "cell_type": "markdown",
   "id": "4add1456",
   "metadata": {},
   "source": [
    "pip install dabl"
   ]
  },
  {
   "cell_type": "code",
   "execution_count": 3,
   "id": "a7af22b6",
   "metadata": {},
   "outputs": [
    {
     "ename": "ImportError",
     "evalue": "cannot import name 'if_delegate_has_method' from 'sklearn.utils.metaestimators' (E:\\anaconda3\\lib\\site-packages\\sklearn\\utils\\metaestimators.py)",
     "output_type": "error",
     "traceback": [
      "\u001b[1;31m---------------------------------------------------------------------------\u001b[0m",
      "\u001b[1;31mImportError\u001b[0m                               Traceback (most recent call last)",
      "\u001b[1;32m~\\AppData\\Local\\Temp\\ipykernel_12284\\1977218780.py\u001b[0m in \u001b[0;36m<module>\u001b[1;34m\u001b[0m\n\u001b[1;32m----> 1\u001b[1;33m \u001b[1;32mimport\u001b[0m \u001b[0mdabl\u001b[0m\u001b[1;33m\u001b[0m\u001b[1;33m\u001b[0m\u001b[0m\n\u001b[0m\u001b[0;32m      2\u001b[0m \u001b[1;32mimport\u001b[0m \u001b[0mpandas\u001b[0m \u001b[1;32mas\u001b[0m \u001b[0mpd\u001b[0m\u001b[1;33m\u001b[0m\u001b[1;33m\u001b[0m\u001b[0m\n\u001b[0;32m      3\u001b[0m \u001b[1;33m\u001b[0m\u001b[0m\n\u001b[0;32m      4\u001b[0m \u001b[1;31m# Load your dataset\u001b[0m\u001b[1;33m\u001b[0m\u001b[1;33m\u001b[0m\u001b[0m\n\u001b[0;32m      5\u001b[0m \u001b[0mdata\u001b[0m \u001b[1;33m=\u001b[0m \u001b[0mpd\u001b[0m\u001b[1;33m.\u001b[0m\u001b[0mread_csv\u001b[0m\u001b[1;33m(\u001b[0m\u001b[1;34m'google_cleaned.csv'\u001b[0m\u001b[1;33m)\u001b[0m\u001b[1;33m\u001b[0m\u001b[1;33m\u001b[0m\u001b[0m\n",
      "\u001b[1;32m~\\AppData\\Roaming\\Python\\Python39\\site-packages\\dabl\\__init__.py\u001b[0m in \u001b[0;36m<module>\u001b[1;34m\u001b[0m\n\u001b[0;32m      1\u001b[0m \u001b[1;32mfrom\u001b[0m \u001b[1;33m.\u001b[0m\u001b[0mpreprocessing\u001b[0m \u001b[1;32mimport\u001b[0m \u001b[0mEasyPreprocessor\u001b[0m\u001b[1;33m,\u001b[0m \u001b[0mclean\u001b[0m\u001b[1;33m,\u001b[0m \u001b[0mdetect_types\u001b[0m\u001b[1;33m\u001b[0m\u001b[1;33m\u001b[0m\u001b[0m\n\u001b[1;32m----> 2\u001b[1;33m \u001b[1;32mfrom\u001b[0m \u001b[1;33m.\u001b[0m\u001b[0mmodels\u001b[0m \u001b[1;32mimport\u001b[0m \u001b[0mSimpleClassifier\u001b[0m\u001b[1;33m,\u001b[0m \u001b[0mSimpleRegressor\u001b[0m\u001b[1;33m,\u001b[0m \u001b[0mAnyClassifier\u001b[0m\u001b[1;33m\u001b[0m\u001b[1;33m\u001b[0m\u001b[0m\n\u001b[0m\u001b[0;32m      3\u001b[0m \u001b[1;32mfrom\u001b[0m \u001b[1;33m.\u001b[0m\u001b[0mplot\u001b[0m\u001b[1;33m.\u001b[0m\u001b[0msupervised\u001b[0m \u001b[1;32mimport\u001b[0m \u001b[0mplot\u001b[0m\u001b[1;33m\u001b[0m\u001b[1;33m\u001b[0m\u001b[0m\n\u001b[0;32m      4\u001b[0m \u001b[1;32mfrom\u001b[0m \u001b[1;33m.\u001b[0m\u001b[0mexplain\u001b[0m \u001b[1;32mimport\u001b[0m \u001b[0mexplain\u001b[0m\u001b[1;33m\u001b[0m\u001b[1;33m\u001b[0m\u001b[0m\n\u001b[0;32m      5\u001b[0m \u001b[1;32mfrom\u001b[0m \u001b[1;33m.\u001b[0m \u001b[1;32mimport\u001b[0m \u001b[0mdatasets\u001b[0m\u001b[1;33m\u001b[0m\u001b[1;33m\u001b[0m\u001b[0m\n",
      "\u001b[1;32m~\\AppData\\Roaming\\Python\\Python39\\site-packages\\dabl\\models.py\u001b[0m in \u001b[0;36m<module>\u001b[1;34m\u001b[0m\n\u001b[0;32m     18\u001b[0m \u001b[1;32mfrom\u001b[0m \u001b[0msklearn\u001b[0m\u001b[1;33m.\u001b[0m\u001b[0mmodel_selection\u001b[0m\u001b[1;33m.\u001b[0m\u001b[0m_validation\u001b[0m \u001b[1;32mimport\u001b[0m \u001b[0m_fit_and_score\u001b[0m\u001b[1;33m\u001b[0m\u001b[1;33m\u001b[0m\u001b[0m\n\u001b[0;32m     19\u001b[0m \u001b[1;32mfrom\u001b[0m \u001b[0msklearn\u001b[0m\u001b[1;33m.\u001b[0m\u001b[0mutils\u001b[0m\u001b[1;33m.\u001b[0m\u001b[0mvalidation\u001b[0m \u001b[1;32mimport\u001b[0m \u001b[0mcheck_is_fitted\u001b[0m\u001b[1;33m\u001b[0m\u001b[1;33m\u001b[0m\u001b[0m\n\u001b[1;32m---> 20\u001b[1;33m \u001b[1;32mfrom\u001b[0m \u001b[0msklearn\u001b[0m\u001b[1;33m.\u001b[0m\u001b[0mutils\u001b[0m\u001b[1;33m.\u001b[0m\u001b[0mmetaestimators\u001b[0m \u001b[1;32mimport\u001b[0m \u001b[0mif_delegate_has_method\u001b[0m\u001b[1;33m\u001b[0m\u001b[1;33m\u001b[0m\u001b[0m\n\u001b[0m\u001b[0;32m     21\u001b[0m \u001b[1;32mtry\u001b[0m\u001b[1;33m:\u001b[0m\u001b[1;33m\u001b[0m\u001b[1;33m\u001b[0m\u001b[0m\n\u001b[0;32m     22\u001b[0m     \u001b[1;32mfrom\u001b[0m \u001b[0msklearn\u001b[0m\u001b[1;33m.\u001b[0m\u001b[0mutils\u001b[0m\u001b[1;33m.\u001b[0m\u001b[0m_testing\u001b[0m \u001b[1;32mimport\u001b[0m \u001b[0mset_random_state\u001b[0m\u001b[1;33m\u001b[0m\u001b[1;33m\u001b[0m\u001b[0m\n",
      "\u001b[1;31mImportError\u001b[0m: cannot import name 'if_delegate_has_method' from 'sklearn.utils.metaestimators' (E:\\anaconda3\\lib\\site-packages\\sklearn\\utils\\metaestimators.py)"
     ]
    }
   ],
   "source": [
    "import dabl\n",
    "import pandas as pd\n",
    "\n",
    "# Load your dataset\n",
    "data = pd.read_csv('google_cleaned.csv')\n",
    "\n",
    "# Perform automatic EDA\n",
    "#dabl.plot(data, target_col='target_column_name')\n"
   ]
  },
  {
   "cell_type": "code",
   "execution_count": null,
   "id": "bb4f4286",
   "metadata": {},
   "outputs": [],
   "source": [
    "\n",
    "\n",
    "dabl:\n",
    "\n",
    "Install dabl:\n",
    "\n",
    "Copy code\n",
    "pip install dabl\n",
    "Example usage:\n",
    "\n",
    "python\n",
    "Copy code\n",
    "import dabl\n",
    "import pandas as pd\n",
    "\n",
    "# Load your dataset\n",
    "data = pd.read_csv('your_dataset.csv')\n",
    "\n",
    "# Perform automatic EDA\n",
    "dabl.plot(data, target_col='target_column_name')\n",
    "QuickDA:\n",
    "\n",
    "Install QuickDA:\n",
    "\n",
    "Copy code\n",
    "pip install QuickDA\n",
    "Example usage:\n",
    "\n",
    "python\n",
    "Copy code\n",
    "from QuickDA import QuickDA\n",
    "\n",
    "# Load your dataset\n",
    "data = QuickDA.load_data('your_dataset.csv')\n",
    "\n",
    "# Perform EDA using QuickDA\n",
    "eda_report = QuickDA.eda(data)\n",
    "eda_report.to_csv('eda_report.csv')\n",
    "\n",
    "Datatile:\n",
    "\n",
    "Install Datatile:\n",
    "\n",
    "Copy code\n",
    "pip install datatile\n",
    "Example usage:\n",
    "\n",
    "python\n",
    "Copy code\n",
    "from datatile import dtale\n",
    "\n",
    "# Load your dataset\n",
    "data = dtale.show(df)\n",
    "\n",
    "# Explore your data using the web-based interface\n",
    "Lux:\n",
    "\n",
    "Install Lux:\n",
    "\n",
    "Copy code\n",
    "pip install lux-api\n",
    "Example usage:\n",
    "\n",
    "python\n",
    "Copy code\n",
    "import lux\n",
    "import pandas as pd\n",
    "\n",
    "lux.data('your_dataset.csv').display()\n",
    "ExploriPy:\n",
    "\n",
    "Install ExploriPy:\n",
    "\n",
    "Copy code\n",
    "pip install ExploriPy\n",
    "Example usage:\n",
    "\n",
    "python\n",
    "Copy code\n",
    "from ExploriPy import EDA\n",
    "\n",
    "# Load your dataset\n",
    "data = EDA(file_path='your_dataset.csv')\n",
    "\n",
    "# Generate EDA reports\n",
    "data.summary()\n",
    "data.histogram('column_name')\n",
    "These examples provide a basic overview of how to use each library for EDA. Be sure to replace 'your_dataset.csv' with the actual path to your dataset file and adjust other parameters or settings as needed for your specific analysis.\n",
    "\n",
    "Please refer to the documentation and official websites of these libraries for more detailed information and advanced usage options.\n",
    "\n",
    "\n",
    "\n",
    "\n",
    "\n",
    "\n",
    "Regenerate\n"
   ]
  }
 ],
 "metadata": {
  "kernelspec": {
   "display_name": "Python 3 (ipykernel)",
   "language": "python",
   "name": "python3"
  },
  "language_info": {
   "codemirror_mode": {
    "name": "ipython",
    "version": 3
   },
   "file_extension": ".py",
   "mimetype": "text/x-python",
   "name": "python",
   "nbconvert_exporter": "python",
   "pygments_lexer": "ipython3",
   "version": "3.9.13"
  }
 },
 "nbformat": 4,
 "nbformat_minor": 5
}
